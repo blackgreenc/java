{
  "nbformat": 4,
  "nbformat_minor": 0,
  "metadata": {
    "colab": {
      "name": "KerasModel_Java_pj",
      "provenance": [],
      "authorship_tag": "ABX9TyPLuE5zcCUTc7eeW50Po3Dg",
      "include_colab_link": true
    },
    "kernelspec": {
      "name": "python3",
      "display_name": "Python 3"
    },
    "language_info": {
      "name": "python"
    }
  },
  "cells": [
    {
      "cell_type": "markdown",
      "metadata": {
        "id": "view-in-github",
        "colab_type": "text"
      },
      "source": [
        "<a href=\"https://colab.research.google.com/github/blackgreenc/java/blob/master/KerasModel_Java_pj.ipynb\" target=\"_parent\"><img src=\"https://colab.research.google.com/assets/colab-badge.svg\" alt=\"Open In Colab\"/></a>"
      ]
    },
    {
      "cell_type": "code",
      "metadata": {
        "colab": {
          "base_uri": "https://localhost:8080/"
        },
        "id": "F-x_-Vkmrail",
        "outputId": "aa1c4c34-6593-4a66-ec7e-9254d1d97042"
      },
      "source": [
        "import tensorflow as tf\n",
        "print(tf.__version__)\n",
        "# MNIST Datasets 불러오기 \n",
        "mnist = tf.keras.datasets.mnist\n",
        "(x_train, y_train), (x_test, y_test) = mnist.load_data()"
      ],
      "execution_count": 1,
      "outputs": [
        {
          "output_type": "stream",
          "name": "stdout",
          "text": [
            "2.7.0\n",
            "Downloading data from https://storage.googleapis.com/tensorflow/tf-keras-datasets/mnist.npz\n",
            "11493376/11490434 [==============================] - 0s 0us/step\n",
            "11501568/11490434 [==============================] - 0s 0us/step\n"
          ]
        }
      ]
    },
    {
      "cell_type": "code",
      "metadata": {
        "id": "FCAxa4l7rj2U"
      },
      "source": [
        "# input data normalization\n",
        "x_train, x_test = x_train / 255.0, x_test / 255.0"
      ],
      "execution_count": 2,
      "outputs": []
    },
    {
      "cell_type": "code",
      "metadata": {
        "id": "2GjDB-jZrj4k"
      },
      "source": [
        "# model create\n",
        "mlp_model = tf.keras.models.Sequential([\n",
        "    tf.keras.layers.Flatten(input_shape = (28,28)),\n",
        "    tf.keras.layers.Dense(128, activation='relu'),\n",
        "    tf.keras.layers.Dense(10, activation='softmax')\n",
        "])\n",
        "\n",
        "# model compile\n",
        "mlp_model.compile(optimizer='adam',\n",
        "                  loss = 'sparse_categorical_crossentropy',\n",
        "                  metrics=['accuracy'])"
      ],
      "execution_count": 3,
      "outputs": []
    },
    {
      "cell_type": "code",
      "metadata": {
        "colab": {
          "base_uri": "https://localhost:8080/"
        },
        "id": "jSQA-X68rj8T",
        "outputId": "ab431f9b-aac4-4893-dda0-e55e20c38d2b"
      },
      "source": [
        "# model\n",
        "mlp_model.summary()"
      ],
      "execution_count": 4,
      "outputs": [
        {
          "output_type": "stream",
          "name": "stdout",
          "text": [
            "Model: \"sequential\"\n",
            "_________________________________________________________________\n",
            " Layer (type)                Output Shape              Param #   \n",
            "=================================================================\n",
            " flatten (Flatten)           (None, 784)               0         \n",
            "                                                                 \n",
            " dense (Dense)               (None, 128)               100480    \n",
            "                                                                 \n",
            " dense_1 (Dense)             (None, 10)                1290      \n",
            "                                                                 \n",
            "=================================================================\n",
            "Total params: 101,770\n",
            "Trainable params: 101,770\n",
            "Non-trainable params: 0\n",
            "_________________________________________________________________\n"
          ]
        }
      ]
    },
    {
      "cell_type": "code",
      "metadata": {
        "colab": {
          "base_uri": "https://localhost:8080/"
        },
        "id": "uW2PYc2ZrklV",
        "outputId": "0a918be5-5a16-4ca6-c4fe-41a6b76b39d2"
      },
      "source": [
        "# model training\n",
        "mlp_model.fit(x_train, y_train, epochs=5)"
      ],
      "execution_count": 5,
      "outputs": [
        {
          "output_type": "stream",
          "name": "stdout",
          "text": [
            "Epoch 1/5\n",
            "1875/1875 [==============================] - 4s 2ms/step - loss: 0.2622 - accuracy: 0.9260\n",
            "Epoch 2/5\n",
            "1875/1875 [==============================] - 4s 2ms/step - loss: 0.1147 - accuracy: 0.9661\n",
            "Epoch 3/5\n",
            "1875/1875 [==============================] - 4s 2ms/step - loss: 0.0796 - accuracy: 0.9757\n",
            "Epoch 4/5\n",
            "1875/1875 [==============================] - 4s 2ms/step - loss: 0.0567 - accuracy: 0.9822\n",
            "Epoch 5/5\n",
            "1875/1875 [==============================] - 4s 2ms/step - loss: 0.0450 - accuracy: 0.9854\n"
          ]
        },
        {
          "output_type": "execute_result",
          "data": {
            "text/plain": [
              "<keras.callbacks.History at 0x7f041d76d750>"
            ]
          },
          "metadata": {},
          "execution_count": 5
        }
      ]
    },
    {
      "cell_type": "code",
      "metadata": {
        "colab": {
          "base_uri": "https://localhost:8080/"
        },
        "id": "gLrePiSZrzEs",
        "outputId": "504f9e9c-fff3-4fb6-96bc-e8b7d74a9312"
      },
      "source": [
        "# model evaluation\n",
        "mlp_model.evaluate(x_test, y_test, verbose=2)"
      ],
      "execution_count": 6,
      "outputs": [
        {
          "output_type": "stream",
          "name": "stdout",
          "text": [
            "313/313 - 0s - loss: 0.0774 - accuracy: 0.9764 - 469ms/epoch - 1ms/step\n"
          ]
        },
        {
          "output_type": "execute_result",
          "data": {
            "text/plain": [
              "[0.07737305015325546, 0.9764000177383423]"
            ]
          },
          "metadata": {},
          "execution_count": 6
        }
      ]
    },
    {
      "cell_type": "code",
      "metadata": {
        "colab": {
          "base_uri": "https://localhost:8080/"
        },
        "id": "xtlrSw7LrzQ0",
        "outputId": "9b6a1638-bf5e-4e9a-c13a-e63bc73ee725"
      },
      "source": [
        "# keras model convert to tflite model\n",
        "converter = tf.lite.TFLiteConverter.from_keras_model(mlp_model) # create converter \n",
        "tflite_model = converter.convert()"
      ],
      "execution_count": 7,
      "outputs": [
        {
          "output_type": "stream",
          "name": "stdout",
          "text": [
            "INFO:tensorflow:Assets written to: /tmp/tmp4d2vmek7/assets\n"
          ]
        },
        {
          "output_type": "stream",
          "name": "stderr",
          "text": [
            "WARNING:absl:Buffer deduplication procedure will be skipped when flatbuffer library is not properly loaded\n"
          ]
        }
      ]
    },
    {
      "cell_type": "code",
      "metadata": {
        "id": "8hguR3UatPuN"
      },
      "source": [
        "# keras model save\n",
        "with open('./keras_model.tflite', 'wb') as f:\n",
        "    f.write(tflite_model) "
      ],
      "execution_count": 15,
      "outputs": []
    },
    {
      "cell_type": "code",
      "metadata": {
        "colab": {
          "base_uri": "https://localhost:8080/"
        },
        "id": "WQVDa5j35CKY",
        "outputId": "8a521f43-6cfd-4e51-a067-2b6bc6d35e14"
      },
      "source": [
        "tf.saved_model.save(mlp_model, \"/mlp_model/\")\n",
        "mlp_model.save(\"./mlp_model/\")"
      ],
      "execution_count": 16,
      "outputs": [
        {
          "output_type": "stream",
          "name": "stdout",
          "text": [
            "INFO:tensorflow:Assets written to: /mlp_model/assets\n"
          ]
        },
        {
          "output_type": "stream",
          "name": "stderr",
          "text": [
            "INFO:tensorflow:Assets written to: /mlp_model/assets\n"
          ]
        },
        {
          "output_type": "stream",
          "name": "stdout",
          "text": [
            "INFO:tensorflow:Assets written to: ./mlp_model/assets\n"
          ]
        },
        {
          "output_type": "stream",
          "name": "stderr",
          "text": [
            "INFO:tensorflow:Assets written to: ./mlp_model/assets\n"
          ]
        }
      ]
    },
    {
      "cell_type": "code",
      "metadata": {
        "colab": {
          "base_uri": "https://localhost:8080/"
        },
        "id": "8-5IEXq-uZm0",
        "outputId": "1843c616-b594-40ef-a513-39e786a258a4"
      },
      "source": [
        "# ve the Keras model in HDF5 format.\n",
        "mlp_model.save(\"./mlp_model.h5\")\n",
        "mlp_model.save(\"./mlp_model/\")"
      ],
      "execution_count": 17,
      "outputs": [
        {
          "output_type": "stream",
          "name": "stdout",
          "text": [
            "INFO:tensorflow:Assets written to: ./mlp_model/assets\n"
          ]
        },
        {
          "output_type": "stream",
          "name": "stderr",
          "text": [
            "INFO:tensorflow:Assets written to: ./mlp_model/assets\n"
          ]
        }
      ]
    },
    {
      "cell_type": "code",
      "metadata": {
        "id": "MAIKyvGn4N-e"
      },
      "source": [
        "h5_model = tf.keras.models.load_model(\"./mlp_model.h5\")"
      ],
      "execution_count": 19,
      "outputs": []
    },
    {
      "cell_type": "code",
      "metadata": {
        "id": "rq_0bYwD4N7r"
      },
      "source": [
        "saved_model = tf.keras.models.load_model(\"./mlp_model/\")"
      ],
      "execution_count": 21,
      "outputs": []
    },
    {
      "cell_type": "code",
      "metadata": {
        "colab": {
          "base_uri": "https://localhost:8080/"
        },
        "id": "ceVqZkaP4OHU",
        "outputId": "2a32b992-97c0-4785-e471-197111ca51fd"
      },
      "source": [
        "# keras model convert to tflite model\n",
        "converter = tf.lite.TFLiteConverter.from_saved_model(\"./mlp_model/\") # create converter \n",
        "tflite_model = converter.convert()"
      ],
      "execution_count": 20,
      "outputs": [
        {
          "output_type": "stream",
          "name": "stderr",
          "text": [
            "WARNING:absl:Buffer deduplication procedure will be skipped when flatbuffer library is not properly loaded\n"
          ]
        }
      ]
    },
    {
      "cell_type": "code",
      "metadata": {
        "id": "3XWi_Cgf7OLp"
      },
      "source": [
        "# SavedModel save\n",
        "with open('./saved_model.tflite', 'wb') as f:\n",
        "    f.write(tflite_model)"
      ],
      "execution_count": 22,
      "outputs": []
    },
    {
      "cell_type": "code",
      "metadata": {
        "id": "n_-1wHqBRmig"
      },
      "source": [
        "# INC Layer 구현\n",
        "class Inc(tf.keras.layers.Layer):\n",
        "    def call(self, inputs):\n",
        "        return inputs + 1\n",
        "inc = Inc()"
      ],
      "execution_count": 23,
      "outputs": []
    },
    {
      "cell_type": "code",
      "metadata": {
        "id": "JLLTwqgpRmoJ"
      },
      "source": [
        "# GraphMode로 동작하는 Inc_Graph Layer 구현\n",
        "class Inc_Graph(tf.keras.layers.Layer):\n",
        "    @tf.function\n",
        "    def call(self, inputs):\n",
        "        return inputs + 1\n",
        "inc_g = Inc_Graph()"
      ],
      "execution_count": 27,
      "outputs": []
    },
    {
      "cell_type": "code",
      "metadata": {
        "id": "SyUoKIrOT5MB"
      },
      "source": [
        "# Inc class의 instance를 GraphMode로 Convert\n",
        "inc_g2 = tf.function(inc)"
      ],
      "execution_count": 28,
      "outputs": []
    },
    {
      "cell_type": "code",
      "metadata": {
        "colab": {
          "base_uri": "https://localhost:8080/"
        },
        "id": "LGWzbsV8T5PZ",
        "outputId": "433f959f-2cbf-40d1-ac12-de649e79f7e2"
      },
      "source": [
        "print(inc_g(tf.constant(4)))\n",
        "print(inc_g2(tf.constant(4)))"
      ],
      "execution_count": 29,
      "outputs": [
        {
          "output_type": "stream",
          "name": "stdout",
          "text": [
            "tf.Tensor(5, shape=(), dtype=int32)\n",
            "tf.Tensor(5, shape=(), dtype=int32)\n"
          ]
        }
      ]
    },
    {
      "cell_type": "code",
      "metadata": {
        "colab": {
          "base_uri": "https://localhost:8080/"
        },
        "id": "mdbMKFg0UqSv",
        "outputId": "41fd4d67-74b4-49e5-a0f6-b3d7e7ce5fd2"
      },
      "source": [
        "concrete_fun = inc_g.call.get_concrete_function(tf.TensorSpec(shape=(1,3),dtype=tf.float32))\n",
        "print(concrete_fun(tf.constant([[1.0, 2.0, 3.0]])))"
      ],
      "execution_count": 30,
      "outputs": [
        {
          "output_type": "stream",
          "name": "stdout",
          "text": [
            "tf.Tensor([[2. 3. 4.]], shape=(1, 3), dtype=float32)\n"
          ]
        }
      ]
    },
    {
      "cell_type": "code",
      "metadata": {
        "id": "TiRqq7aqVtNX"
      },
      "source": [
        "concrete_fun = inc_g2.get"
      ],
      "execution_count": null,
      "outputs": []
    },
    {
      "cell_type": "code",
      "metadata": {
        "id": "aUb-Cqw_VtPa"
      },
      "source": [
        ""
      ],
      "execution_count": null,
      "outputs": []
    },
    {
      "cell_type": "code",
      "metadata": {
        "id": "b0EckD1WVtS8"
      },
      "source": [
        ""
      ],
      "execution_count": null,
      "outputs": []
    },
    {
      "cell_type": "code",
      "metadata": {
        "id": "F7X-Lo52Rmv5"
      },
      "source": [
        ""
      ],
      "execution_count": null,
      "outputs": []
    }
  ]
}