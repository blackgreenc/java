{
  "nbformat": 4,
  "nbformat_minor": 0,
  "metadata": {
    "colab": {
      "name": "Tensorflow Hub",
      "provenance": [],
      "authorship_tag": "ABX9TyPozV6uU6ZRYcHHZMlwQfBZ",
      "include_colab_link": true
    },
    "kernelspec": {
      "display_name": "Python 3",
      "name": "python3"
    },
    "language_info": {
      "name": "python"
    }
  },
  "cells": [
    {
      "cell_type": "markdown",
      "metadata": {
        "id": "view-in-github",
        "colab_type": "text"
      },
      "source": [
        "<a href=\"https://colab.research.google.com/github/blackgreenc/java/blob/master/Tensorflow_Hub.ipynb\" target=\"_parent\"><img src=\"https://colab.research.google.com/assets/colab-badge.svg\" alt=\"Open In Colab\"/></a>"
      ]
    },
    {
      "cell_type": "code",
      "metadata": {
        "colab": {
          "base_uri": "https://localhost:8080/"
        },
        "id": "YUuW5IaEu-pT",
        "outputId": "4f2faec2-b97e-401d-8d24-a2c9e42e04ed"
      },
      "source": [
        "pip install tensorflow-hub"
      ],
      "execution_count": null,
      "outputs": [
        {
          "name": "stdout",
          "output_type": "stream",
          "text": [
            "Requirement already satisfied: tensorflow-hub in /usr/local/lib/python3.7/dist-packages (0.12.0)\n",
            "Requirement already satisfied: protobuf>=3.8.0 in /usr/local/lib/python3.7/dist-packages (from tensorflow-hub) (3.17.3)\n",
            "Requirement already satisfied: numpy>=1.12.0 in /usr/local/lib/python3.7/dist-packages (from tensorflow-hub) (1.19.5)\n",
            "Requirement already satisfied: six>=1.9 in /usr/local/lib/python3.7/dist-packages (from protobuf>=3.8.0->tensorflow-hub) (1.15.0)\n"
          ]
        }
      ]
    },
    {
      "cell_type": "code",
      "metadata": {
        "colab": {
          "base_uri": "https://localhost:8080/"
        },
        "id": "R4t-Yu21vGst",
        "outputId": "335514e8-d77c-463d-a627-84d814050cd8"
      },
      "source": [
        "# dogs and cats image data import\n",
        "import tensorflow_datasets as tfds\n",
        "tfds.disable_progress_bar()\n",
        "\n",
        "raw_train, raw_test = tfds.load(\n",
        "    'cats_vs_dogs',\n",
        "    split = ['train[:80%]', 'train[20%:]'],\n",
        "    as_supervised = True\n",
        ")"
      ],
      "execution_count": null,
      "outputs": [
        {
          "name": "stdout",
          "output_type": "stream",
          "text": [
            "\u001b[1mDownloading and preparing dataset cats_vs_dogs/4.0.0 (download: 786.68 MiB, generated: Unknown size, total: 786.68 MiB) to /root/tensorflow_datasets/cats_vs_dogs/4.0.0...\u001b[0m\n"
          ]
        },
        {
          "name": "stderr",
          "output_type": "stream",
          "text": [
            "WARNING:absl:1738 images were corrupted and were skipped\n"
          ]
        },
        {
          "name": "stdout",
          "output_type": "stream",
          "text": [
            "Shuffling and writing examples to /root/tensorflow_datasets/cats_vs_dogs/4.0.0.incompleteCW2YYE/cats_vs_dogs-train.tfrecord\n",
            "\u001b[1mDataset cats_vs_dogs downloaded and prepared to /root/tensorflow_datasets/cats_vs_dogs/4.0.0. Subsequent calls will reuse this data.\u001b[0m\n"
          ]
        }
      ]
    },
    {
      "cell_type": "code",
      "metadata": {
        "id": "3fo9xK8_vGud"
      },
      "source": [
        "# dogs and cats image data preprocessing\n",
        "import numpy as np\n",
        "import tensorflow as tf\n",
        "\n",
        "def preprocess(image, label):\n",
        "    out_image = tf.image.resize(image/255, [224,224])\n",
        "    return out_image, label\n",
        "\n",
        "batch_size = 32\n",
        "train_batch = raw_train.map(preprocess).batch(batch_size)\n",
        "test_batch = raw_test.map(preprocess).batch(batch_size)"
      ],
      "execution_count": null,
      "outputs": []
    },
    {
      "cell_type": "code",
      "metadata": {
        "id": "lVHZgvIHvGx9"
      },
      "source": [
        "# model define\n",
        "import tensorflow_hub as hub\n",
        "url = \"https://tfhub.dev/google/imagenet/mobilenet_v2_100_224/feature_vector/5\"\n",
        "\n",
        "hub_model_transfer = tf.keras.Sequential([\n",
        "    hub.KerasLayer(url, input_shape=(224,224,3), trainable = False), # 추가로 학습안할 거니까 False\n",
        "    tf.keras.layers.Dense(1) # 이진분류니까 Dense 레이어 추가\n",
        "])"
      ],
      "execution_count": null,
      "outputs": []
    },
    {
      "cell_type": "code",
      "metadata": {
        "colab": {
          "background_save": true,
          "base_uri": "https://localhost:8080/"
        },
        "id": "EfaxvEA_wdKS",
        "outputId": "a9ab1ce2-b532-4cb3-ffab-105f6859c1c8"
      },
      "source": [
        "# tensorflow hub model compiling and training\n",
        "hub_model_transfer.compile(\n",
        "    optimizer = 'adam',\n",
        "    loss = 'binary_crossentropy',\n",
        "    metrics = ['accuracy'])\n",
        "\n",
        "hub_model_transfer.fit(train_batch, epochs = 5)"
      ],
      "execution_count": null,
      "outputs": [
        {
          "name": "stdout",
          "output_type": "stream",
          "text": [
            "Epoch 1/5\n",
            "582/582 [==============================] - 492s 839ms/step - loss: 0.3459 - accuracy: 0.9623\n",
            "Epoch 2/5\n",
            "582/582 [==============================] - 485s 832ms/step - loss: 0.2139 - accuracy: 0.9801\n",
            "Epoch 3/5\n",
            "582/582 [==============================] - 482s 828ms/step - loss: 0.2862 - accuracy: 0.9742\n",
            "Epoch 4/5\n",
            "582/582 [==============================] - 503s 865ms/step - loss: 0.2224 - accuracy: 0.9805\n",
            "Epoch 5/5\n",
            "582/582 [==============================] - 500s 859ms/step - loss: 0.2328 - accuracy: 0.9798\n"
          ]
        },
        {
          "data": {
            "text/plain": [
              "<keras.callbacks.History at 0x7f0d29bce5d0>"
            ]
          },
          "execution_count": null,
          "metadata": {},
          "output_type": "execute_result"
        }
      ]
    },
    {
      "cell_type": "code",
      "metadata": {
        "id": "bB-ulZ6naNyu"
      },
      "source": [
        "hub_model_transfer.evaluate(test_batch, verbose=2)"
      ],
      "execution_count": null,
      "outputs": []
    }
  ]
}