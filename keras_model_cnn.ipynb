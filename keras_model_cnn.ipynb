{
  "nbformat": 4,
  "nbformat_minor": 0,
  "metadata": {
    "colab": {
      "name": "keras_model_cnn.ipynb",
      "provenance": [],
      "authorship_tag": "ABX9TyP7hoQ1jMU6l9yc6ZMlQaM8",
      "include_colab_link": true
    },
    "kernelspec": {
      "name": "python3",
      "display_name": "Python 3"
    },
    "language_info": {
      "name": "python"
    }
  },
  "cells": [
    {
      "cell_type": "markdown",
      "metadata": {
        "id": "view-in-github",
        "colab_type": "text"
      },
      "source": [
        "<a href=\"https://colab.research.google.com/github/blackgreenc/java/blob/master/keras_model_cnn.ipynb\" target=\"_parent\"><img src=\"https://colab.research.google.com/assets/colab-badge.svg\" alt=\"Open In Colab\"/></a>"
      ]
    },
    {
      "cell_type": "code",
      "metadata": {
        "colab": {
          "base_uri": "https://localhost:8080/"
        },
        "id": "eoW_wk5fnmwf",
        "outputId": "4f9fc676-945f-4f43-b47c-53f77f1c23d2"
      },
      "source": [
        "import tensorflow as tf\n",
        "\n",
        "mnist = tf.keras.datasets.mnist\n",
        "(x_train, y_train), (x_test, y_test) = mnist.load_data()\n",
        "\n",
        "x_train, x_test = x_train / 255.0, x_test / 255.0\n",
        "\n",
        "x_train_4d = x_train.reshape(-1, 28, 28, 1)\n",
        "x_test_4d = x_test.reshape(-1, 28, 28, 1)\n",
        "\n",
        "cnn_model = tf.keras.models.Sequential([\n",
        "    tf.keras.layers.Conv2D(32, (3,3), activation = 'relu', input_shape = (28, 28, 1)),\n",
        "    tf.keras.layers.MaxPooling2D((2,2)),\n",
        "    tf.keras.layers.Conv2D(64, (3,3), activation = 'relu'),\n",
        "    tf.keras.layers.MaxPooling2D((2,2)),\n",
        "    tf.keras.layers.Conv2D(64, (3,3), activation = 'relu'),\n",
        "    tf.keras.layers.Flatten(),\n",
        "    tf.keras.layers.Dense(64, activation = 'relu'),\n",
        "    tf.keras.layers.Dense(10, activation = 'softmax')])\n",
        "\n",
        "cnn_model.compile(optimizer = 'adam',\n",
        "                  loss = 'sparse_categorical_crossentropy',\n",
        "                  metrics=['accuracy'])\n",
        "cnn_model.fit(x_train_4d, y_train, epochs =5 )\n",
        "\n",
        "converter = tf.lite.TFLiteConverter.from_keras_model(cnn_model)\n",
        "tflite_model = converter.convert()\n",
        "\n",
        "with open('./keras_model_cnn_tflite', 'wb') as f:\n",
        "    f.write(tflite_model)"
      ],
      "execution_count": null,
      "outputs": [
        {
          "output_type": "stream",
          "name": "stdout",
          "text": [
            "Epoch 1/5\n",
            "1875/1875 [==============================] - 58s 30ms/step - loss: 0.1534 - accuracy: 0.9520\n",
            "Epoch 2/5\n",
            "1875/1875 [==============================] - 57s 31ms/step - loss: 0.0476 - accuracy: 0.9851\n",
            "Epoch 3/5\n",
            "1875/1875 [==============================] - 57s 30ms/step - loss: 0.0337 - accuracy: 0.9896\n",
            "Epoch 4/5\n",
            "1875/1875 [==============================] - 57s 30ms/step - loss: 0.0273 - accuracy: 0.9911\n",
            "Epoch 5/5\n",
            "1375/1875 [=====================>........] - ETA: 15s - loss: 0.0213 - accuracy: 0.9932"
          ]
        }
      ]
    }
  ]
}